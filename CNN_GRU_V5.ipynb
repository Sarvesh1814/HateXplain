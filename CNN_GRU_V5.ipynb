{
  "nbformat": 4,
  "nbformat_minor": 0,
  "metadata": {
    "colab": {
      "provenance": [],
      "authorship_tag": "ABX9TyMD+4yr0EVx061acajYWo5g",
      "include_colab_link": true
    },
    "kernelspec": {
      "name": "python3",
      "display_name": "Python 3"
    },
    "language_info": {
      "name": "python"
    }
  },
  "cells": [
    {
      "cell_type": "markdown",
      "metadata": {
        "id": "view-in-github",
        "colab_type": "text"
      },
      "source": [
        "<a href=\"https://colab.research.google.com/github/Sarvesh1814/HateXplain/blob/Sarvesh/CNN_GRU_V5.ipynb\" target=\"_parent\"><img src=\"https://colab.research.google.com/assets/colab-badge.svg\" alt=\"Open In Colab\"/></a>"
      ]
    },
    {
      "cell_type": "markdown",
      "source": [
        "**Increased GRU units and decreased no of neurons in 1st layer of ANN structure**\n",
        "\n",
        "**Outcome:- Improvement in Validation Accuracy (Crossed 50% mark)**"
      ],
      "metadata": {
        "id": "rbzdZotODJCY"
      }
    },
    {
      "cell_type": "code",
      "source": [
        "from google.colab import drive\n",
        "drive.mount('/content/drive')"
      ],
      "metadata": {
        "colab": {
          "base_uri": "https://localhost:8080/"
        },
        "id": "lLUfaxMXysON",
        "outputId": "6cfd22cb-5b0e-43a6-bafa-b20871c1a0d4"
      },
      "execution_count": 1,
      "outputs": [
        {
          "output_type": "stream",
          "name": "stdout",
          "text": [
            "Mounted at /content/drive\n"
          ]
        }
      ]
    },
    {
      "cell_type": "code",
      "source": [
        "from keras.models import Sequential\n",
        "from keras.layers import Embedding, Conv1D, MaxPooling1D, GRU, Dense, Dropout\n",
        "import numpy as np\n",
        "\n",
        "from nltk.tokenize import word_tokenize\n",
        "from wordcloud import WordCloud\n",
        "from gensim.models import Word2Vec\n",
        "from tensorflow.keras.layers import Input, Embedding, LSTM, Dense, Dropout\n",
        "import tensorflow as tf\n"
      ],
      "metadata": {
        "id": "zIZ8Y9UgyTcd"
      },
      "execution_count": 17,
      "outputs": []
    },
    {
      "cell_type": "code",
      "source": [
        "import numpy as np\n",
        "import pandas as pd\n",
        "import matplotlib.pyplot as plt\n",
        "import gensim\n",
        "import spacy\n",
        "import nltk\n",
        "from tensorflow.keras.utils import pad_sequences\n",
        "import numpy as np\n",
        "import pandas as pd\n",
        "from keras.preprocessing.text import Tokenizer\n",
        "from keras.layers import Embedding, Conv1D, MaxPooling1D, GRU, Dense, Dropout\n",
        "from keras.models import Sequential\n",
        "from keras.optimizers import RMSprop,Adam\n",
        "from keras.utils import to_categorical\n",
        "from sklearn.preprocessing import LabelEncoder\n",
        "from keras.preprocessing.text import Tokenizer"
      ],
      "metadata": {
        "id": "Q2jm9eXj1Zup"
      },
      "execution_count": 28,
      "outputs": []
    },
    {
      "cell_type": "code",
      "source": [
        "# Download the pre-trained GloVe word embeddings\n",
        "!wget http://nlp.stanford.edu/data/glove.6B.zip\n",
        "!unzip glove.6B.zip"
      ],
      "metadata": {
        "colab": {
          "base_uri": "https://localhost:8080/"
        },
        "id": "HE5EkqhbyWFs",
        "outputId": "956f0776-06ce-45d4-ffed-f6017dc8b627"
      },
      "execution_count": 3,
      "outputs": [
        {
          "output_type": "stream",
          "name": "stdout",
          "text": [
            "--2023-04-11 10:10:11--  http://nlp.stanford.edu/data/glove.6B.zip\n",
            "Resolving nlp.stanford.edu (nlp.stanford.edu)... 171.64.67.140\n",
            "Connecting to nlp.stanford.edu (nlp.stanford.edu)|171.64.67.140|:80... connected.\n",
            "HTTP request sent, awaiting response... 302 Found\n",
            "Location: https://nlp.stanford.edu/data/glove.6B.zip [following]\n",
            "--2023-04-11 10:10:11--  https://nlp.stanford.edu/data/glove.6B.zip\n",
            "Connecting to nlp.stanford.edu (nlp.stanford.edu)|171.64.67.140|:443... connected.\n",
            "HTTP request sent, awaiting response... 301 Moved Permanently\n",
            "Location: https://downloads.cs.stanford.edu/nlp/data/glove.6B.zip [following]\n",
            "--2023-04-11 10:10:12--  https://downloads.cs.stanford.edu/nlp/data/glove.6B.zip\n",
            "Resolving downloads.cs.stanford.edu (downloads.cs.stanford.edu)... 171.64.64.22\n",
            "Connecting to downloads.cs.stanford.edu (downloads.cs.stanford.edu)|171.64.64.22|:443... connected.\n",
            "HTTP request sent, awaiting response... 200 OK\n",
            "Length: 862182613 (822M) [application/zip]\n",
            "Saving to: ‘glove.6B.zip’\n",
            "\n",
            "glove.6B.zip        100%[===================>] 822.24M  5.03MB/s    in 2m 39s  \n",
            "\n",
            "2023-04-11 10:12:51 (5.16 MB/s) - ‘glove.6B.zip’ saved [862182613/862182613]\n",
            "\n",
            "Archive:  glove.6B.zip\n",
            "  inflating: glove.6B.50d.txt        \n",
            "  inflating: glove.6B.100d.txt       \n",
            "  inflating: glove.6B.200d.txt       \n",
            "  inflating: glove.6B.300d.txt       \n"
          ]
        }
      ]
    },
    {
      "cell_type": "code",
      "source": [
        "df = pd.read_csv(\"/content/drive/MyDrive/Reproducibility/Sample Model/HateXplain2.csv\")"
      ],
      "metadata": {
        "id": "1b1yoLDw153l"
      },
      "execution_count": 18,
      "outputs": []
    },
    {
      "cell_type": "code",
      "source": [
        "data = df[['post_tokens',\t'Target_cat',\t'Label_cat',\t'final_rationales']]\n",
        "data['post_tokens'] = data['post_tokens'].apply(lambda x: eval(x))\n",
        "for i in range(len(data)):\n",
        "  \n",
        "  sentence =\"\"\n",
        "  for j in (data['post_tokens'].iloc[i]):\n",
        "    \n",
        "    sentence += j +\" \"\n",
        "    \n",
        "  data['post_tokens'].iloc[i] = sentence"
      ],
      "metadata": {
        "colab": {
          "base_uri": "https://localhost:8080/"
        },
        "id": "QiZs90jR1_uB",
        "outputId": "789730ec-168f-48b8-bd9c-6ff88c640834"
      },
      "execution_count": 19,
      "outputs": [
        {
          "output_type": "stream",
          "name": "stderr",
          "text": [
            "<ipython-input-19-5f0ee8932d8a>:2: SettingWithCopyWarning: \n",
            "A value is trying to be set on a copy of a slice from a DataFrame.\n",
            "Try using .loc[row_indexer,col_indexer] = value instead\n",
            "\n",
            "See the caveats in the documentation: https://pandas.pydata.org/pandas-docs/stable/user_guide/indexing.html#returning-a-view-versus-a-copy\n",
            "  data['post_tokens'] = data['post_tokens'].apply(lambda x: eval(x))\n",
            "<ipython-input-19-5f0ee8932d8a>:10: SettingWithCopyWarning: \n",
            "A value is trying to be set on a copy of a slice from a DataFrame\n",
            "\n",
            "See the caveats in the documentation: https://pandas.pydata.org/pandas-docs/stable/user_guide/indexing.html#returning-a-view-versus-a-copy\n",
            "  data['post_tokens'].iloc[i] = sentence\n"
          ]
        }
      ]
    },
    {
      "cell_type": "code",
      "source": [
        "label_map = {'hatespeech': 0, 'normal': 1, 'offensive': 2}\n",
        "labels = data[\"Label_cat\"].apply(lambda x: label_map[x])"
      ],
      "metadata": {
        "id": "gNrV0SsR2CTa"
      },
      "execution_count": 20,
      "outputs": []
    },
    {
      "cell_type": "code",
      "source": [
        "max_words = 30000\n",
        "maxlen = 100\n",
        "\n",
        "# Tokenize the text data and convert it to sequences of integers\n",
        "tokenizer = Tokenizer(num_words=max_words)\n",
        "tokenizer.fit_on_texts(df['post_tokens'])\n",
        "sequences = tokenizer.texts_to_sequences(df['post_tokens'])\n",
        "X = pad_sequences(sequences, maxlen=maxlen)\n",
        "\n",
        "# Define the target labels\n",
        "y = pd.get_dummies(df['Label_cat']).values\n"
      ],
      "metadata": {
        "id": "zNIUNUvv1zmc"
      },
      "execution_count": 41,
      "outputs": []
    },
    {
      "cell_type": "code",
      "source": [
        "# Load the pre-trained GloVe embeddings\n",
        "embedding_dict = {}\n",
        "with open('glove.6B.100d.txt', encoding='utf-8') as f:\n",
        "    for line in f:\n",
        "        values = line.split()\n",
        "        word = values[0]\n",
        "        vector = np.asarray(values[1:], dtype='float32')\n",
        "        embedding_dict[word] = vector\n",
        "\n",
        "# Initialize the embedding matrix with pre-trained GloVe embeddings\n",
        "word_index = tokenizer.word_index\n",
        "num_words = min(max_words, len(word_index) + 1)\n",
        "embedding_matrix = np.zeros((num_words, 100))\n",
        "for word, i in word_index.items():\n",
        "    if i >= max_words:\n",
        "        continue\n",
        "    embedding_vector = embedding_dict.get(word)\n",
        "    if embedding_vector is not None:\n",
        "        embedding_matrix[i] = embedding_vector\n"
      ],
      "metadata": {
        "id": "ftMNfY-u2JkW"
      },
      "execution_count": 43,
      "outputs": []
    },
    {
      "cell_type": "markdown",
      "source": [
        "## Model Arichtecture"
      ],
      "metadata": {
        "id": "1XAU2Nmp9W45"
      }
    },
    {
      "cell_type": "code",
      "source": [
        "# Define the model architecture\n",
        "model1 = Sequential()\n",
        "model1.add(Embedding(num_words, 100, weights=[embedding_matrix], input_length=maxlen, trainable=True))\n",
        "model1.add(Conv1D(64, 7, activation='relu'))\n",
        "model1.add(MaxPooling1D(2))\n",
        "model1.add(Dropout(0.1))\n",
        "model1.add(GRU(128, dropout=0.2, recurrent_dropout=0.1))\n",
        "model1.add(Dense(64, activation='relu'))\n",
        "model1.add(Dense(3, activation='softmax'))\n",
        "\n",
        "# Compile the model1\n",
        "model1.compile(optimizer=RMSprop(lr=1e-2), loss='categorical_crossentropy', metrics=['acc'])\n",
        "\n",
        "# Train the model1\n",
        "history=model1.fit(X, y, epochs=15, batch_size=32, validation_split=0.2)"
      ],
      "metadata": {
        "colab": {
          "base_uri": "https://localhost:8080/"
        },
        "id": "P9Dh14KZ5UE4",
        "outputId": "89149ea2-518c-40f0-a751-ecb98eb30bec"
      },
      "execution_count": 52,
      "outputs": [
        {
          "output_type": "stream",
          "name": "stdout",
          "text": [
            "Epoch 1/15\n"
          ]
        },
        {
          "output_type": "stream",
          "name": "stderr",
          "text": [
            "/usr/local/lib/python3.9/dist-packages/keras/optimizers/legacy/rmsprop.py:143: UserWarning: The `lr` argument is deprecated, use `learning_rate` instead.\n",
            "  super().__init__(name, **kwargs)\n"
          ]
        },
        {
          "output_type": "stream",
          "name": "stdout",
          "text": [
            "504/504 [==============================] - 86s 162ms/step - loss: 0.9065 - acc: 0.5685 - val_loss: 0.9906 - val_acc: 0.4605\n",
            "Epoch 2/15\n",
            "504/504 [==============================] - 90s 179ms/step - loss: 0.7405 - acc: 0.6905 - val_loss: 1.0960 - val_acc: 0.4578\n",
            "Epoch 3/15\n",
            "504/504 [==============================] - 80s 159ms/step - loss: 0.6794 - acc: 0.7283 - val_loss: 1.0723 - val_acc: 0.4916\n",
            "Epoch 4/15\n",
            "504/504 [==============================] - 83s 164ms/step - loss: 0.6339 - acc: 0.7553 - val_loss: 1.2025 - val_acc: 0.4918\n",
            "Epoch 5/15\n",
            "504/504 [==============================] - 81s 161ms/step - loss: 0.6162 - acc: 0.7650 - val_loss: 1.0839 - val_acc: 0.5300\n",
            "Epoch 6/15\n",
            "504/504 [==============================] - 79s 156ms/step - loss: 0.5708 - acc: 0.7904 - val_loss: 1.1699 - val_acc: 0.5176\n",
            "Epoch 7/15\n",
            "504/504 [==============================] - 81s 161ms/step - loss: 0.5579 - acc: 0.7933 - val_loss: 1.2190 - val_acc: 0.4864\n",
            "Epoch 8/15\n",
            "504/504 [==============================] - 80s 158ms/step - loss: 0.5728 - acc: 0.7905 - val_loss: 1.4510 - val_acc: 0.5104\n",
            "Epoch 9/15\n",
            "504/504 [==============================] - 89s 176ms/step - loss: 0.5471 - acc: 0.8018 - val_loss: 1.1726 - val_acc: 0.5278\n",
            "Epoch 10/15\n",
            "504/504 [==============================] - 79s 157ms/step - loss: 0.5242 - acc: 0.8144 - val_loss: 1.2393 - val_acc: 0.5236\n",
            "Epoch 11/15\n",
            "504/504 [==============================] - 82s 162ms/step - loss: 0.5114 - acc: 0.8172 - val_loss: 1.6702 - val_acc: 0.5144\n",
            "Epoch 12/15\n",
            "504/504 [==============================] - 93s 184ms/step - loss: 0.5026 - acc: 0.8245 - val_loss: 1.2402 - val_acc: 0.5109\n",
            "Epoch 13/15\n",
            "504/504 [==============================] - 80s 160ms/step - loss: 0.5069 - acc: 0.8247 - val_loss: 1.4923 - val_acc: 0.5022\n",
            "Epoch 14/15\n",
            "504/504 [==============================] - 78s 156ms/step - loss: 0.4862 - acc: 0.8285 - val_loss: 1.3709 - val_acc: 0.4995\n",
            "Epoch 15/15\n",
            "504/504 [==============================] - 80s 159ms/step - loss: 0.4751 - acc: 0.8347 - val_loss: 1.3915 - val_acc: 0.5114\n"
          ]
        }
      ]
    },
    {
      "cell_type": "code",
      "source": [
        "# Plot the history of accuracy and loss\n",
        "plt.plot(history.history['acc'])\n",
        "plt.plot(history.history['val_acc'])\n",
        "plt.plot(history.history['loss'])\n",
        "plt.plot(history.history['val_loss'])\n",
        "plt.title('Model Performance')\n",
        "plt.xlabel('Epoch')\n",
        "plt.ylabel('Performance')\n",
        "plt.legend(['Train Accuracy', 'Validation Accuracy', 'Train Loss', 'Validation Loss'], loc='upper left')\n",
        "plt.show()\n"
      ],
      "metadata": {
        "colab": {
          "base_uri": "https://localhost:8080/",
          "height": 472
        },
        "id": "4768ZX5_-FXT",
        "outputId": "8f44a661-cb27-4b6d-c85e-794788345899"
      },
      "execution_count": 53,
      "outputs": [
        {
          "output_type": "display_data",
          "data": {
            "text/plain": [
              "<Figure size 640x480 with 1 Axes>"
            ],
            "image/png": "[encoded data removed]"
          },
          "metadata": {}
        }
      ]
    },
    {
      "cell_type": "code",
      "source": [
        "from sklearn.metrics import classification_report\n",
        "y_pred = np.argmax(model1.predict(X), axis=-1)\n",
        "\n",
        "# Convert the labels from one-hot encoding to integers\n",
        "y_test_int = np.argmax(y, axis=1)"
      ],
      "metadata": {
        "colab": {
          "base_uri": "https://localhost:8080/"
        },
        "id": "D9sIOydsHn1S",
        "outputId": "4b4fcb11-3317-4739-d51a-528dc1fe7a60"
      },
      "execution_count": 54,
      "outputs": [
        {
          "output_type": "stream",
          "name": "stdout",
          "text": [
            "630/630 [==============================] - 16s 24ms/step\n"
          ]
        }
      ]
    },
    {
      "cell_type": "code",
      "source": [
        "print(classification_report(y_test_int, y_pred))"
      ],
      "metadata": {
        "colab": {
          "base_uri": "https://localhost:8080/"
        },
        "id": "zDf86e0DHrvh",
        "outputId": "4458ade4-9e08-403d-c3e1-9fd6b9313066"
      },
      "execution_count": 55,
      "outputs": [
        {
          "output_type": "stream",
          "name": "stdout",
          "text": [
            "              precision    recall  f1-score   support\n",
            "\n",
            "           0       0.84      0.82      0.83      5934\n",
            "           1       0.79      0.87      0.83      7814\n",
            "           2       0.75      0.68      0.71      6400\n",
            "\n",
            "    accuracy                           0.79     20148\n",
            "   macro avg       0.79      0.79      0.79     20148\n",
            "weighted avg       0.79      0.79      0.79     20148\n",
            "\n"
          ]
        }
      ]
    },
    {
      "cell_type": "code",
      "source": [
        "model1.save(\"/content/drive/MyDrive/Reproducibility/CNN_GRU_V5.h5\")"
      ],
      "metadata": {
        "id": "I3Dp3BCFLQAl"
      },
      "execution_count": 64,
      "outputs": []
    }
  ]
}