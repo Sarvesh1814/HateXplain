{
  "nbformat": 4,
  "nbformat_minor": 0,
  "metadata": {
    "colab": {
      "provenance": []
    },
    "kernelspec": {
      "name": "python3",
      "display_name": "Python 3"
    },
    "language_info": {
      "name": "python"
    }
  },
  "cells": [
    {
      "cell_type": "markdown",
      "source": [
        "# Comparison of Deep Learning Models"
      ],
      "metadata": {
        "id": "TF9S8vi1B9sm"
      }
    },
    {
      "cell_type": "markdown",
      "source": [
        "<html>\n",
        "<body>\n",
        "  <table>\n",
        "  <th>Model</th>\n",
        "  <th>Train Accuracy</th>\n",
        "  <th>Validation Accuracy</th>\n",
        "  <tr>    \n",
        "      <td>LSTM</td>\n",
        "      <td>95.06</td>\n",
        "      <td>50.30</td>\n",
        "  </tr>\n",
        "  <tr>\n",
        "      <td>BiRNN</td>\n",
        "      <td>98.08</td>\n",
        "      <td>48.01</td>\n",
        "  </tr>\n",
        "  <tr>\n",
        "      <td>DistilBERT</td>\n",
        "      <td>67.14</td>\n",
        "      <td>57.92</td>\n",
        "  </tr>\n",
        "  <tr>\n",
        "      <td>CNN</td>\n",
        "      <td>72.39</td>\n",
        "      <td>51.66</td>\n",
        "  </tr>\n",
        "  <tr>\n",
        "      <td>CNN_GRU</td>\n",
        "      <td>93.99</td>\n",
        "      <td>49.99</td>\n",
        "  </tr>\n",
        "  </table>\n",
        "</body>\n",
        "</html>"
      ],
      "metadata": {
        "id": "Alzq61MKCEmb"
      }
    },
    {
      "cell_type": "code",
      "source": [],
      "metadata": {
        "id": "n5OQAL7pF-zH"
      },
      "execution_count": null,
      "outputs": []
    }
  ]
}