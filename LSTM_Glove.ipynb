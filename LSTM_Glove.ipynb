{
  "nbformat": 4,
  "nbformat_minor": 0,
  "metadata": {
    "colab": {
      "provenance": [],
      "mount_file_id": "1ZFlQDiS7FwwDW--OzXybZlMwyrIqTo84",
      "authorship_tag": "ABX9TyOquZ9iIqI2MVDQlexU3FAU",
      "include_colab_link": true
    },
    "kernelspec": {
      "name": "python3",
      "display_name": "Python 3"
    },
    "language_info": {
      "name": "python"
    },
    "accelerator": "GPU",
    "gpuClass": "standard"
  },
  "cells": [
    {
      "cell_type": "markdown",
      "metadata": {
        "id": "view-in-github",
        "colab_type": "text"
      },
      "source": [
        "<a href=\"https://colab.research.google.com/github/Sarvesh1814/HateXplain/blob/main/LSTM_Glove.ipynb\" target=\"_parent\"><img src=\"https://colab.research.google.com/assets/colab-badge.svg\" alt=\"Open In Colab\"/></a>"
      ]
    },
    {
      "cell_type": "code",
      "source": [
        "import numpy as np\n",
        "import pandas as pd\n",
        "import matplotlib.pyplot as plt\n",
        "import gensim\n",
        "import spacy\n",
        "import nltk\n",
        "from nltk.tokenize import word_tokenize\n",
        "from wordcloud import WordCloud\n",
        "from gensim.models import Word2Vec\n",
        "from tensorflow.keras.layers import Input, Embedding, LSTM, Dense, Dropout\n",
        "import tensorflow as tf\n",
        "from keras.utils import to_categorical\n",
        "from sklearn.preprocessing import LabelEncoder\n"
      ],
      "metadata": {
        "id": "2TYmN_uB106u"
      },
      "execution_count": null,
      "outputs": []
    },
    {
      "cell_type": "code",
      "source": [
        "df = pd.read_csv(\"/content/drive/MyDrive/Reproducibility/Sample Model/HateXplain2.csv\")"
      ],
      "metadata": {
        "id": "nExxJ6cn1qGr"
      },
      "execution_count": null,
      "outputs": []
    },
    {
      "cell_type": "code",
      "source": [
        "df = df[['post_tokens',\t'Target_cat',\t'Label_cat',\t'final_rationales']]\n",
        "df['post_tokens'] = df['post_tokens'].apply(lambda x: eval(x))\n",
        "df.head()"
      ],
      "metadata": {
        "colab": {
          "base_uri": "https://localhost:8080/",
          "height": 206
        },
        "id": "nkqBN6Pa1wKA",
        "outputId": "483a95d7-6fbd-4df4-cbea-47481c76ac73"
      },
      "execution_count": null,
      "outputs": [
        {
          "output_type": "execute_result",
          "data": {
            "text/plain": [
              "                                         post_tokens Target_cat   Label_cat  \\\n",
              "0  [i, dont, think, im, getting, my, baby, them, ...       None      normal   \n",
              "1  [we, cannot, continue, calling, ourselves, fem...       None      normal   \n",
              "2                [nawt, yall, niggers, ignoring, me]    African      normal   \n",
              "3  [<user>, i, am, bit, confused, coz, chinese, p...      Asian  hatespeech   \n",
              "4  [this, bitch, in, whataburger, eating, a, burg...      Women  hatespeech   \n",
              "\n",
              "                                    final_rationales  \n",
              "0  [0, 0, 0, 0, 0, 0, 0, 0, 0, 0, 0, 0, 0, 0, 0, ...  \n",
              "1  [0, 0, 0, 0, 0, 0, 0, 0, 0, 0, 0, 0, 0, 0, 0, ...  \n",
              "2                                    [0, 0, 0, 0, 0]  \n",
              "3  [0, 0, 0, 0, 0, 0, 0, 0, 0, 0, 0, 0, 0, 0, 0, ...  \n",
              "4  [0, 1, 0, 0, 0, 0, 0, 0, 0, 0, 0, 0, 0, 0, 0, ...  "
            ],
            "text/html": [
              "\n",
              "  <div id=\"df-c1e26d15-a25c-49b4-8bb4-78e887db2264\">\n",
              "    <div class=\"colab-df-container\">\n",
              "      <div>\n",
              "<style scoped>\n",
              "    .dataframe tbody tr th:only-of-type {\n",
              "        vertical-align: middle;\n",
              "    }\n",
              "\n",
              "    .dataframe tbody tr th {\n",
              "        vertical-align: top;\n",
              "    }\n",
              "\n",
              "    .dataframe thead th {\n",
              "        text-align: right;\n",
              "    }\n",
              "</style>\n",
              "<table border=\"1\" class=\"dataframe\">\n",
              "  <thead>\n",
              "    <tr style=\"text-align: right;\">\n",
              "      <th></th>\n",
              "      <th>post_tokens</th>\n",
              "      <th>Target_cat</th>\n",
              "      <th>Label_cat</th>\n",
              "      <th>final_rationales</th>\n",
              "    </tr>\n",
              "  </thead>\n",
              "  <tbody>\n",
              "    <tr>\n",
              "      <th>0</th>\n",
              "      <td>[i, dont, think, im, getting, my, baby, them, ...</td>\n",
              "      <td>None</td>\n",
              "      <td>normal</td>\n",
              "      <td>[0, 0, 0, 0, 0, 0, 0, 0, 0, 0, 0, 0, 0, 0, 0, ...</td>\n",
              "    </tr>\n",
              "    <tr>\n",
              "      <th>1</th>\n",
              "      <td>[we, cannot, continue, calling, ourselves, fem...</td>\n",
              "      <td>None</td>\n",
              "      <td>normal</td>\n",
              "      <td>[0, 0, 0, 0, 0, 0, 0, 0, 0, 0, 0, 0, 0, 0, 0, ...</td>\n",
              "    </tr>\n",
              "    <tr>\n",
              "      <th>2</th>\n",
              "      <td>[nawt, yall, niggers, ignoring, me]</td>\n",
              "      <td>African</td>\n",
              "      <td>normal</td>\n",
              "      <td>[0, 0, 0, 0, 0]</td>\n",
              "    </tr>\n",
              "    <tr>\n",
              "      <th>3</th>\n",
              "      <td>[&lt;user&gt;, i, am, bit, confused, coz, chinese, p...</td>\n",
              "      <td>Asian</td>\n",
              "      <td>hatespeech</td>\n",
              "      <td>[0, 0, 0, 0, 0, 0, 0, 0, 0, 0, 0, 0, 0, 0, 0, ...</td>\n",
              "    </tr>\n",
              "    <tr>\n",
              "      <th>4</th>\n",
              "      <td>[this, bitch, in, whataburger, eating, a, burg...</td>\n",
              "      <td>Women</td>\n",
              "      <td>hatespeech</td>\n",
              "      <td>[0, 1, 0, 0, 0, 0, 0, 0, 0, 0, 0, 0, 0, 0, 0, ...</td>\n",
              "    </tr>\n",
              "  </tbody>\n",
              "</table>\n",
              "</div>\n",
              "      <button class=\"colab-df-convert\" onclick=\"convertToInteractive('df-c1e26d15-a25c-49b4-8bb4-78e887db2264')\"\n",
              "              title=\"Convert this dataframe to an interactive table.\"\n",
              "              style=\"display:none;\">\n",
              "        \n",
              "  <svg xmlns=\"http://www.w3.org/2000/svg\" height=\"24px\"viewBox=\"0 0 24 24\"\n",
              "       width=\"24px\">\n",
              "    <path d=\"M0 0h24v24H0V0z\" fill=\"none\"/>\n",
              "    <path d=\"M18.56 5.44l.94 2.06.94-2.06 2.06-.94-2.06-.94-.94-2.06-.94 2.06-2.06.94zm-11 1L8.5 8.5l.94-2.06 2.06-.94-2.06-.94L8.5 2.5l-.94 2.06-2.06.94zm10 10l.94 2.06.94-2.06 2.06-.94-2.06-.94-.94-2.06-.94 2.06-2.06.94z\"/><path d=\"M17.41 7.96l-1.37-1.37c-.4-.4-.92-.59-1.43-.59-.52 0-1.04.2-1.43.59L10.3 9.45l-7.72 7.72c-.78.78-.78 2.05 0 2.83L4 21.41c.39.39.9.59 1.41.59.51 0 1.02-.2 1.41-.59l7.78-7.78 2.81-2.81c.8-.78.8-2.07 0-2.86zM5.41 20L4 18.59l7.72-7.72 1.47 1.35L5.41 20z\"/>\n",
              "  </svg>\n",
              "      </button>\n",
              "      \n",
              "  <style>\n",
              "    .colab-df-container {\n",
              "      display:flex;\n",
              "      flex-wrap:wrap;\n",
              "      gap: 12px;\n",
              "    }\n",
              "\n",
              "    .colab-df-convert {\n",
              "      background-color: #E8F0FE;\n",
              "      border: none;\n",
              "      border-radius: 50%;\n",
              "      cursor: pointer;\n",
              "      display: none;\n",
              "      fill: #1967D2;\n",
              "      height: 32px;\n",
              "      padding: 0 0 0 0;\n",
              "      width: 32px;\n",
              "    }\n",
              "\n",
              "    .colab-df-convert:hover {\n",
              "      background-color: #E2EBFA;\n",
              "      box-shadow: 0px 1px 2px rgba(60, 64, 67, 0.3), 0px 1px 3px 1px rgba(60, 64, 67, 0.15);\n",
              "      fill: #174EA6;\n",
              "    }\n",
              "\n",
              "    [theme=dark] .colab-df-convert {\n",
              "      background-color: #3B4455;\n",
              "      fill: #D2E3FC;\n",
              "    }\n",
              "\n",
              "    [theme=dark] .colab-df-convert:hover {\n",
              "      background-color: #434B5C;\n",
              "      box-shadow: 0px 1px 3px 1px rgba(0, 0, 0, 0.15);\n",
              "      filter: drop-shadow(0px 1px 2px rgba(0, 0, 0, 0.3));\n",
              "      fill: #FFFFFF;\n",
              "    }\n",
              "  </style>\n",
              "\n",
              "      <script>\n",
              "        const buttonEl =\n",
              "          document.querySelector('#df-c1e26d15-a25c-49b4-8bb4-78e887db2264 button.colab-df-convert');\n",
              "        buttonEl.style.display =\n",
              "          google.colab.kernel.accessAllowed ? 'block' : 'none';\n",
              "\n",
              "        async function convertToInteractive(key) {\n",
              "          const element = document.querySelector('#df-c1e26d15-a25c-49b4-8bb4-78e887db2264');\n",
              "          const dataTable =\n",
              "            await google.colab.kernel.invokeFunction('convertToInteractive',\n",
              "                                                     [key], {});\n",
              "          if (!dataTable) return;\n",
              "\n",
              "          const docLinkHtml = 'Like what you see? Visit the ' +\n",
              "            '<a target=\"_blank\" href=https://colab.research.google.com/notebooks/data_table.ipynb>data table notebook</a>'\n",
              "            + ' to learn more about interactive tables.';\n",
              "          element.innerHTML = '';\n",
              "          dataTable['output_type'] = 'display_data';\n",
              "          await google.colab.output.renderOutput(dataTable, element);\n",
              "          const docLink = document.createElement('div');\n",
              "          docLink.innerHTML = docLinkHtml;\n",
              "          element.appendChild(docLink);\n",
              "        }\n",
              "      </script>\n",
              "    </div>\n",
              "  </div>\n",
              "  "
            ]
          },
          "metadata": {},
          "execution_count": 3
        }
      ]
    },
    {
      "cell_type": "code",
      "source": [
        "df['tweet']=''\n",
        "for i in range(len(df)):\n",
        "  df['tweet'].iloc[i] = \" \".join(df[\"post_tokens\"].iloc[i])"
      ],
      "metadata": {
        "id": "kRli1NTPrLn7"
      },
      "execution_count": null,
      "outputs": []
    },
    {
      "cell_type": "code",
      "source": [
        "df"
      ],
      "metadata": {
        "colab": {
          "base_uri": "https://localhost:8080/",
          "height": 423
        },
        "id": "KqhGf5ONrfUY",
        "outputId": "4ca2142b-a03f-4a18-ce63-f106e8867142"
      },
      "execution_count": null,
      "outputs": [
        {
          "output_type": "execute_result",
          "data": {
            "text/plain": [
              "                                             post_tokens Target_cat  \\\n",
              "0      [i, dont, think, im, getting, my, baby, them, ...       None   \n",
              "1      [we, cannot, continue, calling, ourselves, fem...       None   \n",
              "2                    [nawt, yall, niggers, ignoring, me]    African   \n",
              "3      [<user>, i, am, bit, confused, coz, chinese, p...      Asian   \n",
              "4      [this, bitch, in, whataburger, eating, a, burg...      Women   \n",
              "...                                                  ...        ...   \n",
              "20143  [if, ur, still, on, twitter, tell, carlton, i,...       None   \n",
              "20144  [when, i, first, got, on, here, and, said, i, ...    African   \n",
              "20145  [was, macht, der, moslem, wenn, der, zion, geg...      Other   \n",
              "20146  [it, is, awful, look, at, world, demographics,...      Asian   \n",
              "20147  [the, jewish, globalist, elite, have, only, im...    African   \n",
              "\n",
              "        Label_cat                                   final_rationales  \\\n",
              "0          normal  [0, 0, 0, 0, 0, 0, 0, 0, 0, 0, 0, 0, 0, 0, 0, ...   \n",
              "1          normal  [0, 0, 0, 0, 0, 0, 0, 0, 0, 0, 0, 0, 0, 0, 0, ...   \n",
              "2          normal                                    [0, 0, 0, 0, 0]   \n",
              "3      hatespeech  [0, 0, 0, 0, 0, 0, 0, 0, 0, 0, 0, 0, 0, 0, 0, ...   \n",
              "4      hatespeech  [0, 1, 0, 0, 0, 0, 0, 0, 0, 0, 0, 0, 0, 0, 0, ...   \n",
              "...           ...                                                ...   \n",
              "20143   offensive  [0, 0, 0, 0, 0, 0, 0, 0, 0, 0, 1, 1, 1, 1, 1, ...   \n",
              "20144   offensive  [0, 0, 0, 0, 0, 0, 0, 0, 1, 1, 1, 1, 1, 0, 0, ...   \n",
              "20145      normal  [0, 0, 0, 0, 0, 0, 0, 0, 0, 0, 0, 0, 0, 0, 0, ...   \n",
              "20146  hatespeech  [0, 0, 0, 0, 0, 0, 0, 1, 1, 1, 1, 0, 0, 1, 1, ...   \n",
              "20147   offensive  [0, 0, 0, 0, 0, 0, 1, 0, 0, 0, 1, 1, 1, 1, 1, ...   \n",
              "\n",
              "                                                   tweet  \n",
              "0      i dont think im getting my baby them white 9 h...  \n",
              "1      we cannot continue calling ourselves feminists...  \n",
              "2                          nawt yall niggers ignoring me  \n",
              "3      <user> i am bit confused coz chinese ppl can n...  \n",
              "4      this bitch in whataburger eating a burger with...  \n",
              "...                                                  ...  \n",
              "20143  if ur still on twitter tell carlton i said his...  \n",
              "20144  when i first got on here and said i hate trump...  \n",
              "20145  was macht der moslem wenn der zion gegen seine...  \n",
              "20146  it is awful look at world demographics asians ...  \n",
              "20147  the jewish globalist elite have only imported ...  \n",
              "\n",
              "[20148 rows x 5 columns]"
            ],
            "text/html": [
              "\n",
              "  <div id=\"df-b3dfd3b3-fe97-423a-a747-3320fb9709fa\">\n",
              "    <div class=\"colab-df-container\">\n",
              "      <div>\n",
              "<style scoped>\n",
              "    .dataframe tbody tr th:only-of-type {\n",
              "        vertical-align: middle;\n",
              "    }\n",
              "\n",
              "    .dataframe tbody tr th {\n",
              "        vertical-align: top;\n",
              "    }\n",
              "\n",
              "    .dataframe thead th {\n",
              "        text-align: right;\n",
              "    }\n",
              "</style>\n",
              "<table border=\"1\" class=\"dataframe\">\n",
              "  <thead>\n",
              "    <tr style=\"text-align: right;\">\n",
              "      <th></th>\n",
              "      <th>post_tokens</th>\n",
              "      <th>Target_cat</th>\n",
              "      <th>Label_cat</th>\n",
              "      <th>final_rationales</th>\n",
              "      <th>tweet</th>\n",
              "    </tr>\n",
              "  </thead>\n",
              "  <tbody>\n",
              "    <tr>\n",
              "      <th>0</th>\n",
              "      <td>[i, dont, think, im, getting, my, baby, them, ...</td>\n",
              "      <td>None</td>\n",
              "      <td>normal</td>\n",
              "      <td>[0, 0, 0, 0, 0, 0, 0, 0, 0, 0, 0, 0, 0, 0, 0, ...</td>\n",
              "      <td>i dont think im getting my baby them white 9 h...</td>\n",
              "    </tr>\n",
              "    <tr>\n",
              "      <th>1</th>\n",
              "      <td>[we, cannot, continue, calling, ourselves, fem...</td>\n",
              "      <td>None</td>\n",
              "      <td>normal</td>\n",
              "      <td>[0, 0, 0, 0, 0, 0, 0, 0, 0, 0, 0, 0, 0, 0, 0, ...</td>\n",
              "      <td>we cannot continue calling ourselves feminists...</td>\n",
              "    </tr>\n",
              "    <tr>\n",
              "      <th>2</th>\n",
              "      <td>[nawt, yall, niggers, ignoring, me]</td>\n",
              "      <td>African</td>\n",
              "      <td>normal</td>\n",
              "      <td>[0, 0, 0, 0, 0]</td>\n",
              "      <td>nawt yall niggers ignoring me</td>\n",
              "    </tr>\n",
              "    <tr>\n",
              "      <th>3</th>\n",
              "      <td>[&lt;user&gt;, i, am, bit, confused, coz, chinese, p...</td>\n",
              "      <td>Asian</td>\n",
              "      <td>hatespeech</td>\n",
              "      <td>[0, 0, 0, 0, 0, 0, 0, 0, 0, 0, 0, 0, 0, 0, 0, ...</td>\n",
              "      <td>&lt;user&gt; i am bit confused coz chinese ppl can n...</td>\n",
              "    </tr>\n",
              "    <tr>\n",
              "      <th>4</th>\n",
              "      <td>[this, bitch, in, whataburger, eating, a, burg...</td>\n",
              "      <td>Women</td>\n",
              "      <td>hatespeech</td>\n",
              "      <td>[0, 1, 0, 0, 0, 0, 0, 0, 0, 0, 0, 0, 0, 0, 0, ...</td>\n",
              "      <td>this bitch in whataburger eating a burger with...</td>\n",
              "    </tr>\n",
              "    <tr>\n",
              "      <th>...</th>\n",
              "      <td>...</td>\n",
              "      <td>...</td>\n",
              "      <td>...</td>\n",
              "      <td>...</td>\n",
              "      <td>...</td>\n",
              "    </tr>\n",
              "    <tr>\n",
              "      <th>20143</th>\n",
              "      <td>[if, ur, still, on, twitter, tell, carlton, i,...</td>\n",
              "      <td>None</td>\n",
              "      <td>offensive</td>\n",
              "      <td>[0, 0, 0, 0, 0, 0, 0, 0, 0, 0, 1, 1, 1, 1, 1, ...</td>\n",
              "      <td>if ur still on twitter tell carlton i said his...</td>\n",
              "    </tr>\n",
              "    <tr>\n",
              "      <th>20144</th>\n",
              "      <td>[when, i, first, got, on, here, and, said, i, ...</td>\n",
              "      <td>African</td>\n",
              "      <td>offensive</td>\n",
              "      <td>[0, 0, 0, 0, 0, 0, 0, 0, 1, 1, 1, 1, 1, 0, 0, ...</td>\n",
              "      <td>when i first got on here and said i hate trump...</td>\n",
              "    </tr>\n",
              "    <tr>\n",
              "      <th>20145</th>\n",
              "      <td>[was, macht, der, moslem, wenn, der, zion, geg...</td>\n",
              "      <td>Other</td>\n",
              "      <td>normal</td>\n",
              "      <td>[0, 0, 0, 0, 0, 0, 0, 0, 0, 0, 0, 0, 0, 0, 0, ...</td>\n",
              "      <td>was macht der moslem wenn der zion gegen seine...</td>\n",
              "    </tr>\n",
              "    <tr>\n",
              "      <th>20146</th>\n",
              "      <td>[it, is, awful, look, at, world, demographics,...</td>\n",
              "      <td>Asian</td>\n",
              "      <td>hatespeech</td>\n",
              "      <td>[0, 0, 0, 0, 0, 0, 0, 1, 1, 1, 1, 0, 0, 1, 1, ...</td>\n",
              "      <td>it is awful look at world demographics asians ...</td>\n",
              "    </tr>\n",
              "    <tr>\n",
              "      <th>20147</th>\n",
              "      <td>[the, jewish, globalist, elite, have, only, im...</td>\n",
              "      <td>African</td>\n",
              "      <td>offensive</td>\n",
              "      <td>[0, 0, 0, 0, 0, 0, 1, 0, 0, 0, 1, 1, 1, 1, 1, ...</td>\n",
              "      <td>the jewish globalist elite have only imported ...</td>\n",
              "    </tr>\n",
              "  </tbody>\n",
              "</table>\n",
              "<p>20148 rows × 5 columns</p>\n",
              "</div>\n",
              "      <button class=\"colab-df-convert\" onclick=\"convertToInteractive('df-b3dfd3b3-fe97-423a-a747-3320fb9709fa')\"\n",
              "              title=\"Convert this dataframe to an interactive table.\"\n",
              "              style=\"display:none;\">\n",
              "        \n",
              "  <svg xmlns=\"http://www.w3.org/2000/svg\" height=\"24px\"viewBox=\"0 0 24 24\"\n",
              "       width=\"24px\">\n",
              "    <path d=\"M0 0h24v24H0V0z\" fill=\"none\"/>\n",
              "    <path d=\"M18.56 5.44l.94 2.06.94-2.06 2.06-.94-2.06-.94-.94-2.06-.94 2.06-2.06.94zm-11 1L8.5 8.5l.94-2.06 2.06-.94-2.06-.94L8.5 2.5l-.94 2.06-2.06.94zm10 10l.94 2.06.94-2.06 2.06-.94-2.06-.94-.94-2.06-.94 2.06-2.06.94z\"/><path d=\"M17.41 7.96l-1.37-1.37c-.4-.4-.92-.59-1.43-.59-.52 0-1.04.2-1.43.59L10.3 9.45l-7.72 7.72c-.78.78-.78 2.05 0 2.83L4 21.41c.39.39.9.59 1.41.59.51 0 1.02-.2 1.41-.59l7.78-7.78 2.81-2.81c.8-.78.8-2.07 0-2.86zM5.41 20L4 18.59l7.72-7.72 1.47 1.35L5.41 20z\"/>\n",
              "  </svg>\n",
              "      </button>\n",
              "      \n",
              "  <style>\n",
              "    .colab-df-container {\n",
              "      display:flex;\n",
              "      flex-wrap:wrap;\n",
              "      gap: 12px;\n",
              "    }\n",
              "\n",
              "    .colab-df-convert {\n",
              "      background-color: #E8F0FE;\n",
              "      border: none;\n",
              "      border-radius: 50%;\n",
              "      cursor: pointer;\n",
              "      display: none;\n",
              "      fill: #1967D2;\n",
              "      height: 32px;\n",
              "      padding: 0 0 0 0;\n",
              "      width: 32px;\n",
              "    }\n",
              "\n",
              "    .colab-df-convert:hover {\n",
              "      background-color: #E2EBFA;\n",
              "      box-shadow: 0px 1px 2px rgba(60, 64, 67, 0.3), 0px 1px 3px 1px rgba(60, 64, 67, 0.15);\n",
              "      fill: #174EA6;\n",
              "    }\n",
              "\n",
              "    [theme=dark] .colab-df-convert {\n",
              "      background-color: #3B4455;\n",
              "      fill: #D2E3FC;\n",
              "    }\n",
              "\n",
              "    [theme=dark] .colab-df-convert:hover {\n",
              "      background-color: #434B5C;\n",
              "      box-shadow: 0px 1px 3px 1px rgba(0, 0, 0, 0.15);\n",
              "      filter: drop-shadow(0px 1px 2px rgba(0, 0, 0, 0.3));\n",
              "      fill: #FFFFFF;\n",
              "    }\n",
              "  </style>\n",
              "\n",
              "      <script>\n",
              "        const buttonEl =\n",
              "          document.querySelector('#df-b3dfd3b3-fe97-423a-a747-3320fb9709fa button.colab-df-convert');\n",
              "        buttonEl.style.display =\n",
              "          google.colab.kernel.accessAllowed ? 'block' : 'none';\n",
              "\n",
              "        async function convertToInteractive(key) {\n",
              "          const element = document.querySelector('#df-b3dfd3b3-fe97-423a-a747-3320fb9709fa');\n",
              "          const dataTable =\n",
              "            await google.colab.kernel.invokeFunction('convertToInteractive',\n",
              "                                                     [key], {});\n",
              "          if (!dataTable) return;\n",
              "\n",
              "          const docLinkHtml = 'Like what you see? Visit the ' +\n",
              "            '<a target=\"_blank\" href=https://colab.research.google.com/notebooks/data_table.ipynb>data table notebook</a>'\n",
              "            + ' to learn more about interactive tables.';\n",
              "          element.innerHTML = '';\n",
              "          dataTable['output_type'] = 'display_data';\n",
              "          await google.colab.output.renderOutput(dataTable, element);\n",
              "          const docLink = document.createElement('div');\n",
              "          docLink.innerHTML = docLinkHtml;\n",
              "          element.appendChild(docLink);\n",
              "        }\n",
              "      </script>\n",
              "    </div>\n",
              "  </div>\n",
              "  "
            ]
          },
          "metadata": {},
          "execution_count": 5
        }
      ]
    },
    {
      "cell_type": "code",
      "source": [
        "import tensorflow as tf\n",
        "from tensorflow.keras.preprocessing.text import Tokenizer\n",
        "from tensorflow.keras.preprocessing.sequence import pad_sequences\n",
        "from tensorflow.keras.layers import Embedding, LSTM, Dense, Dropout, Bidirectional, Input, GlobalMaxPooling1D, Concatenate, Dot\n",
        "from tensorflow.keras.models import Model\n",
        "from gensim.models import Word2Vec\n",
        "import numpy as np\n",
        "import pandas as pd\n",
        "import matplotlib.pyplot as plt"
      ],
      "metadata": {
        "id": "PdNtjVgXlkCe"
      },
      "execution_count": null,
      "outputs": []
    },
    {
      "cell_type": "code",
      "source": [
        "import gensim.downloader as api"
      ],
      "metadata": {
        "id": "7CILd8Iksolz"
      },
      "execution_count": null,
      "outputs": []
    },
    {
      "cell_type": "code",
      "source": [
        "model_name = 'glove-wiki-gigaword-300'\n",
        "w2v_model = api.load(model_name)"
      ],
      "metadata": {
        "colab": {
          "base_uri": "https://localhost:8080/"
        },
        "id": "NFcPgZjqs4Pb",
        "outputId": "d3a6cf95-2d33-49d6-c84e-28a68291becf"
      },
      "execution_count": null,
      "outputs": [
        {
          "output_type": "stream",
          "name": "stdout",
          "text": [
            "[=================================================-] 99.1% 372.7/376.1MB downloaded\n"
          ]
        }
      ]
    },
    {
      "cell_type": "code",
      "source": [
        "tokenizer = Tokenizer(num_words=10000, oov_token='<OOV>')\n",
        "tokenizer.fit_on_texts(df['tweet'])"
      ],
      "metadata": {
        "id": "VartBwoYs-N7"
      },
      "execution_count": null,
      "outputs": []
    },
    {
      "cell_type": "code",
      "source": [
        "sequences = tokenizer.texts_to_sequences(df['tweet'])\n",
        "padded_sequences = pad_sequences(sequences, maxlen=50, padding='post', truncating='post')"
      ],
      "metadata": {
        "id": "sOjh8N6rtC_6"
      },
      "execution_count": null,
      "outputs": []
    },
    {
      "cell_type": "code",
      "source": [
        "Label_encoder = LabelEncoder()\n",
        "Label_labels = Label_encoder.fit_transform(df['Label_cat'])\n",
        "y1 = tf.keras.utils.to_categorical(Label_labels, num_classes=3)"
      ],
      "metadata": {
        "id": "IrSFNWhIx8qU"
      },
      "execution_count": null,
      "outputs": []
    },
    {
      "cell_type": "code",
      "source": [
        "embedding_dim = 300\n",
        "num_words = len(tokenizer.word_index) + 1\n",
        "embedding_matrix = np.zeros((num_words, embedding_dim))\n",
        "for word, i in tokenizer.word_index.items():\n",
        "    if word in w2v_model.key_to_index.keys():\n",
        "        embedding_matrix[i] = w2v_model[word]\n",
        "\n",
        "# Define the model architecture\n",
        "input_layer = Input(shape=(50,))\n",
        "embedding_layer = Embedding(input_dim=num_words, output_dim=embedding_dim, weights=[embedding_matrix], trainable=False)(input_layer)\n",
        "lstm_layer = LSTM(128, return_sequences=True)(embedding_layer)\n",
        "lstm_layer = Dropout(0.5)(lstm_layer)\n",
        "lstm_layer = LSTM(64)(lstm_layer)\n",
        "lstm_layer = Dropout(0.5)(lstm_layer)\n",
        "output_layer = Dense(3, activation='softmax')(lstm_layer)\n",
        "\n",
        "model = Model(inputs=[input_layer], outputs=output_layer)\n",
        "\n",
        "# Compile the model\n",
        "model.compile(loss='categorical_crossentropy', optimizer='adam', metrics=['accuracy'])\n",
        "\n",
        "history = model.fit(padded_sequences, y1, batch_size=32, epochs=20, validation_split=0.2)\n"
      ],
      "metadata": {
        "colab": {
          "base_uri": "https://localhost:8080/"
        },
        "id": "qOA2iNn0tRTG",
        "outputId": "fffd6d7a-d215-42ca-e2bd-5686ffda7aca"
      },
      "execution_count": null,
      "outputs": [
        {
          "output_type": "stream",
          "name": "stdout",
          "text": [
            "Epoch 1/20\n",
            "504/504 [==============================] - 10s 11ms/step - loss: 0.9338 - accuracy: 0.5565 - val_loss: 1.0686 - val_accuracy: 0.4045\n",
            "Epoch 2/20\n",
            "504/504 [==============================] - 5s 10ms/step - loss: 0.8431 - accuracy: 0.6133 - val_loss: 1.0499 - val_accuracy: 0.4385\n",
            "Epoch 3/20\n",
            "504/504 [==============================] - 4s 9ms/step - loss: 0.7988 - accuracy: 0.6500 - val_loss: 1.0057 - val_accuracy: 0.5087\n",
            "Epoch 4/20\n",
            "504/504 [==============================] - 4s 9ms/step - loss: 0.7589 - accuracy: 0.6691 - val_loss: 0.9863 - val_accuracy: 0.5166\n",
            "Epoch 5/20\n",
            "504/504 [==============================] - 5s 10ms/step - loss: 0.7205 - accuracy: 0.6897 - val_loss: 1.0257 - val_accuracy: 0.5040\n",
            "Epoch 6/20\n",
            "504/504 [==============================] - 4s 8ms/step - loss: 0.6806 - accuracy: 0.7216 - val_loss: 1.0670 - val_accuracy: 0.4878\n",
            "Epoch 7/20\n",
            "504/504 [==============================] - 4s 9ms/step - loss: 0.6460 - accuracy: 0.7382 - val_loss: 1.0183 - val_accuracy: 0.5206\n",
            "Epoch 8/20\n",
            "504/504 [==============================] - 5s 11ms/step - loss: 0.5947 - accuracy: 0.7650 - val_loss: 1.0765 - val_accuracy: 0.5447\n",
            "Epoch 9/20\n",
            "504/504 [==============================] - 5s 9ms/step - loss: 0.5515 - accuracy: 0.7852 - val_loss: 1.1110 - val_accuracy: 0.5313\n",
            "Epoch 10/20\n",
            "504/504 [==============================] - 4s 9ms/step - loss: 0.5020 - accuracy: 0.8134 - val_loss: 1.1956 - val_accuracy: 0.5139\n",
            "Epoch 11/20\n",
            "504/504 [==============================] - 5s 10ms/step - loss: 0.4522 - accuracy: 0.8329 - val_loss: 1.2181 - val_accuracy: 0.5035\n",
            "Epoch 12/20\n",
            "504/504 [==============================] - 5s 10ms/step - loss: 0.3996 - accuracy: 0.8592 - val_loss: 1.3201 - val_accuracy: 0.5092\n",
            "Epoch 13/20\n",
            "504/504 [==============================] - 6s 12ms/step - loss: 0.3592 - accuracy: 0.8771 - val_loss: 1.4620 - val_accuracy: 0.5037\n",
            "Epoch 14/20\n",
            "504/504 [==============================] - 4s 9ms/step - loss: 0.3250 - accuracy: 0.8922 - val_loss: 1.3481 - val_accuracy: 0.5169\n",
            "Epoch 15/20\n",
            "504/504 [==============================] - 4s 8ms/step - loss: 0.2847 - accuracy: 0.9094 - val_loss: 1.5058 - val_accuracy: 0.5079\n",
            "Epoch 16/20\n",
            "504/504 [==============================] - 6s 11ms/step - loss: 0.2502 - accuracy: 0.9224 - val_loss: 1.6928 - val_accuracy: 0.5136\n",
            "Epoch 17/20\n",
            "504/504 [==============================] - 4s 8ms/step - loss: 0.2268 - accuracy: 0.9316 - val_loss: 1.6995 - val_accuracy: 0.5226\n",
            "Epoch 18/20\n",
            "504/504 [==============================] - 4s 8ms/step - loss: 0.2081 - accuracy: 0.9376 - val_loss: 1.8398 - val_accuracy: 0.4871\n",
            "Epoch 19/20\n",
            "504/504 [==============================] - 5s 10ms/step - loss: 0.1952 - accuracy: 0.9439 - val_loss: 1.8730 - val_accuracy: 0.5161\n",
            "Epoch 20/20\n",
            "504/504 [==============================] - 4s 9ms/step - loss: 0.1766 - accuracy: 0.9506 - val_loss: 1.9393 - val_accuracy: 0.5030\n"
          ]
        }
      ]
    },
    {
      "cell_type": "code",
      "source": [
        "# Plot the history of accuracy and loss\n",
        "plt.plot(history.history['accuracy'])\n",
        "plt.plot(history.history['val_accuracy'])\n",
        "plt.plot(history.history['loss'])\n",
        "plt.plot(history.history['val_loss'])\n",
        "plt.title('Model Performance')\n",
        "plt.xlabel('Epoch')\n",
        "plt.ylabel('Performance')\n",
        "plt.legend(['Train Accuracy', 'Validation Accuracy', 'Train Loss', 'Validation Loss'], loc='upper left')\n",
        "plt.show()\n"
      ],
      "metadata": {
        "colab": {
          "base_uri": "https://localhost:8080/",
          "height": 472
        },
        "id": "vVIPMlKpw4da",
        "outputId": "b91423fd-da41-4852-e92d-d8eb35dfde36"
      },
      "execution_count": null,
      "outputs": [
        {
          "output_type": "display_data",
          "data": {
            "text/plain": [
              "<Figure size 640x480 with 1 Axes>"
            ],
            "image/png": "[encoded data removed]"
          },
          "metadata": {}
        }
      ]
    },
    {
      "cell_type": "code",
      "source": [],
      "metadata": {
        "id": "PVhLvv7DxAk-"
      },
      "execution_count": null,
      "outputs": []
    }
  ]
}