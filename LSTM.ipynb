{
  "nbformat": 4,
  "nbformat_minor": 0,
  "metadata": {
    "colab": {
      "provenance": [],
      "authorship_tag": "ABX9TyMhNKgPPOonaVEIWJAn8woz",
      "include_colab_link": true
    },
    "kernelspec": {
      "name": "python3",
      "display_name": "Python 3"
    },
    "language_info": {
      "name": "python"
    },
    "accelerator": "GPU",
    "gpuClass": "standard"
  },
  "cells": [
    {
      "cell_type": "markdown",
      "metadata": {
        "id": "view-in-github",
        "colab_type": "text"
      },
      "source": [
        "<a href=\"https://colab.research.google.com/github/Sarvesh1814/HateXplain/blob/Sarvesh/LSTM.ipynb\" target=\"_parent\"><img src=\"https://colab.research.google.com/assets/colab-badge.svg\" alt=\"Open In Colab\"/></a>"
      ]
    },
    {
      "cell_type": "code",
      "execution_count": null,
      "metadata": {
        "id": "4pqF-6hIe1t5"
      },
      "outputs": [],
      "source": [
        "import numpy as np\n",
        "import pandas as pd\n",
        "import matplotlib.pyplot as plt\n",
        "import gensim\n",
        "import spacy\n",
        "import nltk\n",
        "from nltk.tokenize import word_tokenize\n",
        "from gensim.models import Word2Vec\n",
        "from tensorflow.keras.layers import Input, Embedding, LSTM, Dense, Dropout\n",
        "import tensorflow as tf\n",
        "from keras.utils import to_categorical\n",
        "from sklearn.preprocessing import LabelEncoder\n",
        "import tensorflow as tf\n",
        "from tensorflow.keras.layers import Input, Embedding, LSTM, Dense, Attention, Concatenate, Lambda\n",
        "from tensorflow.keras.models import Model"
      ]
    },
    {
      "cell_type": "code",
      "source": [
        "from google.colab import drive\n",
        "drive.mount('/content/drive')"
      ],
      "metadata": {
        "colab": {
          "base_uri": "https://localhost:8080/"
        },
        "id": "SUASsB5Ce6EW",
        "outputId": "ad758bb6-4673-46f3-e4d9-276b4268a137"
      },
      "execution_count": null,
      "outputs": [
        {
          "output_type": "stream",
          "name": "stdout",
          "text": [
            "Mounted at /content/drive\n"
          ]
        }
      ]
    },
    {
      "cell_type": "code",
      "source": [
        "df = pd.read_csv(\"/content/drive/MyDrive/Reproducibility/Sample Model/HateXplain2.csv\")"
      ],
      "metadata": {
        "id": "IbrEsUqbe6dS"
      },
      "execution_count": null,
      "outputs": []
    },
    {
      "cell_type": "code",
      "source": [
        "data = df[['post_tokens',\t'Target_cat',\t'Label_cat',\t'final_rationales']]\n",
        "data['post_tokens'] = data['post_tokens'].apply(lambda x: eval(x))\n",
        "for i in range(len(data)):\n",
        "  \n",
        "  sentence =\"\"\n",
        "  for j in (data['post_tokens'].iloc[i]):\n",
        "    \n",
        "    sentence += j +\" \"\n",
        "    \n",
        "  data['post_tokens'].iloc[i] = sentence"
      ],
      "metadata": {
        "colab": {
          "base_uri": "https://localhost:8080/"
        },
        "id": "f1ZVzRV0fA61",
        "outputId": "c4733fd9-07e4-40b7-fad3-23abd171ef51"
      },
      "execution_count": null,
      "outputs": [
        {
          "output_type": "stream",
          "name": "stderr",
          "text": [
            "<ipython-input-4-5f0ee8932d8a>:2: SettingWithCopyWarning: \n",
            "A value is trying to be set on a copy of a slice from a DataFrame.\n",
            "Try using .loc[row_indexer,col_indexer] = value instead\n",
            "\n",
            "See the caveats in the documentation: https://pandas.pydata.org/pandas-docs/stable/user_guide/indexing.html#returning-a-view-versus-a-copy\n",
            "  data['post_tokens'] = data['post_tokens'].apply(lambda x: eval(x))\n",
            "<ipython-input-4-5f0ee8932d8a>:10: SettingWithCopyWarning: \n",
            "A value is trying to be set on a copy of a slice from a DataFrame\n",
            "\n",
            "See the caveats in the documentation: https://pandas.pydata.org/pandas-docs/stable/user_guide/indexing.html#returning-a-view-versus-a-copy\n",
            "  data['post_tokens'].iloc[i] = sentence\n"
          ]
        }
      ]
    },
    {
      "cell_type": "code",
      "source": [
        "label_map = {'hatespeech': 0, 'normal': 1, 'offensive': 2}\n",
        "labels = data[\"Label_cat\"].apply(lambda x: label_map[x])"
      ],
      "metadata": {
        "id": "PIZaceTXfLml"
      },
      "execution_count": null,
      "outputs": []
    },
    {
      "cell_type": "code",
      "source": [
        "tokenizer = tf.keras.preprocessing.text.Tokenizer()\n",
        "tokenizer.fit_on_texts(df['post_tokens'])\n",
        "sequences = tokenizer.texts_to_sequences(df['post_tokens'])\n",
        "max_len = 100\n",
        "sequences = tf.keras.preprocessing.sequence.pad_sequences(sequences, maxlen=max_len)\n",
        "\n",
        "vocab_size = len(tokenizer.word_index) + 1\n",
        "embedding_dim = 100\n",
        "input_tweet = Input(shape=(max_len,), name='input_tweet')\n",
        "\n",
        "# Define embedding layer with random initialization\n",
        "embedding = Embedding(input_dim=vocab_size, output_dim=embedding_dim, name='embedding')(input_tweet)\n",
        "\n",
        "# Define LSTM layer\n",
        "lstm = LSTM(128, return_sequences=True)(embedding)\n",
        "lstm = LSTM(128,activation='relu')(lstm)\n",
        "\n",
        "\n",
        "# Define dense layers for tweet classification\n",
        "x = Dense(64, activation='relu')(lstm)\n",
        "x = Dense(32, activation='relu')(x)\n",
        "output = Dense(3, activation='softmax', name='output')(x)\n",
        "\n",
        "# Define model inputs and outputs\n",
        "model = Model(inputs=input_tweet, outputs=output)"
      ],
      "metadata": {
        "colab": {
          "base_uri": "https://localhost:8080/"
        },
        "id": "MwbF3wV3fdjU",
        "outputId": "a3c9de0a-e8a4-431e-950e-273bade26e37"
      },
      "execution_count": null,
      "outputs": [
        {
          "output_type": "stream",
          "name": "stderr",
          "text": [
            "WARNING:tensorflow:Layer lstm_1 will not use cuDNN kernels since it doesn't meet the criteria. It will use a generic GPU kernel as fallback when running on GPU.\n"
          ]
        }
      ]
    },
    {
      "cell_type": "code",
      "source": [
        "model.compile(loss=\"categorical_crossentropy\", optimizer='adam', metrics=['accuracy'])\n",
        "\n",
        "# Define training and validation data\n",
        "output_cat = tf.keras.utils.to_categorical(labels)\n",
        "split = int(len(sequences) * 0.8)\n",
        "input_train = sequences[:split]\n",
        "output_train = output_cat[:split]\n",
        "input_val = sequences[split:]\n",
        "output_val = output_cat[split:]\n",
        "\n",
        "# Train model with input and output data\n",
        "model.fit(input_train, output_train, validation_data=(input_val, output_val), epochs=25)"
      ],
      "metadata": {
        "colab": {
          "base_uri": "https://localhost:8080/"
        },
        "id": "RDw9cbsEgAew",
        "outputId": "5bc15dbd-09e8-464d-e5b8-b9d5def980ed"
      },
      "execution_count": null,
      "outputs": [
        {
          "output_type": "stream",
          "name": "stdout",
          "text": [
            "Epoch 1/25\n",
            "504/504 [==============================] - 151s 279ms/step - loss: 183.3300 - accuracy: 0.5019 - val_loss: 1.7237 - val_accuracy: 0.3514\n",
            "Epoch 2/25\n",
            "504/504 [==============================] - 114s 227ms/step - loss: 0.7859 - accuracy: 0.6340 - val_loss: 5.2271 - val_accuracy: 0.3923\n",
            "Epoch 3/25\n",
            "504/504 [==============================] - 111s 220ms/step - loss: 2.8803 - accuracy: 0.6558 - val_loss: 1.1101 - val_accuracy: 0.3489\n",
            "Epoch 4/25\n",
            "504/504 [==============================] - 108s 214ms/step - loss: 5399.9722 - accuracy: 0.6386 - val_loss: 1.0731 - val_accuracy: 0.3447\n",
            "Epoch 5/25\n",
            "504/504 [==============================] - 106s 210ms/step - loss: 0.8415 - accuracy: 0.7206 - val_loss: 1.2189 - val_accuracy: 0.4270\n",
            "Epoch 6/25\n",
            "504/504 [==============================] - 105s 208ms/step - loss: 0.4821 - accuracy: 0.8231 - val_loss: 1.3458 - val_accuracy: 0.4365\n",
            "Epoch 7/25\n",
            "504/504 [==============================] - 107s 212ms/step - loss: 0.3820 - accuracy: 0.8798 - val_loss: 1.5297 - val_accuracy: 0.4365\n",
            "Epoch 8/25\n",
            "504/504 [==============================] - 107s 211ms/step - loss: 0.2544 - accuracy: 0.9162 - val_loss: 2.2069 - val_accuracy: 0.4434\n",
            "Epoch 9/25\n",
            "504/504 [==============================] - 107s 212ms/step - loss: 696942528.0000 - accuracy: 0.5904 - val_loss: 290.5313 - val_accuracy: 0.2268\n",
            "Epoch 10/25\n",
            "504/504 [==============================] - 107s 212ms/step - loss: 314.9301 - accuracy: 0.3437 - val_loss: 11.1597 - val_accuracy: 0.2268\n",
            "Epoch 11/25\n",
            "504/504 [==============================] - 104s 207ms/step - loss: 23.8919 - accuracy: 0.3508 - val_loss: 29.6170 - val_accuracy: 0.4811\n",
            "Epoch 12/25\n",
            "504/504 [==============================] - 107s 213ms/step - loss: 27.2129 - accuracy: 0.3613 - val_loss: 15.0260 - val_accuracy: 0.3107\n",
            "Epoch 13/25\n",
            "504/504 [==============================] - 107s 212ms/step - loss: 56.5413 - accuracy: 0.3528 - val_loss: 400.1829 - val_accuracy: 0.2268\n",
            "Epoch 14/25\n",
            "504/504 [==============================] - 107s 212ms/step - loss: 24.1729 - accuracy: 0.3690 - val_loss: 14.7506 - val_accuracy: 0.2268\n",
            "Epoch 15/25\n",
            "504/504 [==============================] - 105s 209ms/step - loss: 5.1298 - accuracy: 0.3708 - val_loss: 5.4715 - val_accuracy: 0.2266\n",
            "Epoch 16/25\n",
            "504/504 [==============================] - 105s 208ms/step - loss: 8.1948 - accuracy: 0.3636 - val_loss: 4.0879 - val_accuracy: 0.4769\n",
            "Epoch 17/25\n",
            "504/504 [==============================] - 107s 213ms/step - loss: 10.2237 - accuracy: 0.3670 - val_loss: 10.1725 - val_accuracy: 0.2280\n",
            "Epoch 18/25\n",
            "504/504 [==============================] - 107s 213ms/step - loss: 10.9113 - accuracy: 0.3652 - val_loss: 13.1539 - val_accuracy: 0.2270\n",
            "Epoch 19/25\n",
            "504/504 [==============================] - 107s 212ms/step - loss: 11.4592 - accuracy: 0.3659 - val_loss: 17.8620 - val_accuracy: 0.2268\n",
            "Epoch 20/25\n",
            "504/504 [==============================] - 105s 209ms/step - loss: 14.3996 - accuracy: 0.3554 - val_loss: 20.8192 - val_accuracy: 0.4811\n",
            "Epoch 21/25\n",
            "504/504 [==============================] - 103s 204ms/step - loss: 66.4391 - accuracy: 0.3572 - val_loss: 118.4061 - val_accuracy: 0.2275\n",
            "Epoch 22/25\n",
            "504/504 [==============================] - 106s 211ms/step - loss: 42.4795 - accuracy: 0.3448 - val_loss: 52.3937 - val_accuracy: 0.4811\n",
            "Epoch 23/25\n",
            "504/504 [==============================] - 105s 208ms/step - loss: 33.2659 - accuracy: 0.3661 - val_loss: 14.6008 - val_accuracy: 0.4809\n",
            "Epoch 24/25\n",
            "504/504 [==============================] - 105s 207ms/step - loss: 30.0103 - accuracy: 0.3641 - val_loss: 75.8223 - val_accuracy: 0.2268\n",
            "Epoch 25/25\n",
            "504/504 [==============================] - 108s 214ms/step - loss: 22.5434 - accuracy: 0.3685 - val_loss: 24.6852 - val_accuracy: 0.2270\n"
          ]
        },
        {
          "output_type": "execute_result",
          "data": {
            "text/plain": [
              "<keras.callbacks.History at 0x7f12077ba190>"
            ]
          },
          "metadata": {},
          "execution_count": 8
        }
      ]
    },
    {
      "cell_type": "code",
      "source": [
        "model.fit(input_train, output_train, validation_data=(input_val, output_val), epochs=10)\n",
        "\n",
        "          "
      ],
      "metadata": {
        "colab": {
          "base_uri": "https://localhost:8080/"
        },
        "id": "psAFfBEAgYjc",
        "outputId": "210179db-30ca-42b3-b1cc-5a02ee4c5b59"
      },
      "execution_count": null,
      "outputs": [
        {
          "output_type": "stream",
          "name": "stdout",
          "text": [
            "Epoch 1/10\n",
            "504/504 [==============================] - 104s 206ms/step - loss: 16.7585 - accuracy: 0.3713 - val_loss: 31.6492 - val_accuracy: 0.2888\n",
            "Epoch 2/10\n",
            "504/504 [==============================] - 106s 210ms/step - loss: 16.9934 - accuracy: 0.3900 - val_loss: 2.3358 - val_accuracy: 0.2938\n",
            "Epoch 3/10\n",
            "504/504 [==============================] - 106s 211ms/step - loss: 11.2986 - accuracy: 0.3940 - val_loss: 11.2057 - val_accuracy: 0.2916\n",
            "Epoch 4/10\n",
            "504/504 [==============================] - 103s 205ms/step - loss: 8.7926 - accuracy: 0.4077 - val_loss: 6.7737 - val_accuracy: 0.4784\n",
            "Epoch 5/10\n",
            "504/504 [==============================] - 105s 208ms/step - loss: 5.7381 - accuracy: 0.4400 - val_loss: 4.3255 - val_accuracy: 0.3015\n",
            "Epoch 6/10\n",
            "504/504 [==============================] - 106s 210ms/step - loss: 2.8016 - accuracy: 0.4824 - val_loss: 5.0152 - val_accuracy: 0.2958\n",
            "Epoch 7/10\n",
            "504/504 [==============================] - 104s 207ms/step - loss: 1.9398 - accuracy: 0.4963 - val_loss: 1.5071 - val_accuracy: 0.4124\n",
            "Epoch 8/10\n",
            "504/504 [==============================] - 105s 208ms/step - loss: 2.0685 - accuracy: 0.4901 - val_loss: 4.7823 - val_accuracy: 0.2955\n",
            "Epoch 9/10\n",
            "504/504 [==============================] - 107s 211ms/step - loss: 1.8301 - accuracy: 0.5068 - val_loss: 1.6325 - val_accuracy: 0.3114\n",
            "Epoch 10/10\n",
            "504/504 [==============================] - 109s 216ms/step - loss: 1.4551 - accuracy: 0.5363 - val_loss: 6.7001 - val_accuracy: 0.2471\n"
          ]
        },
        {
          "output_type": "execute_result",
          "data": {
            "text/plain": [
              "<keras.callbacks.History at 0x7f121bd45280>"
            ]
          },
          "metadata": {},
          "execution_count": 9
        }
      ]
    },
    {
      "cell_type": "code",
      "source": [],
      "metadata": {
        "id": "WFE4ba1Fqur-"
      },
      "execution_count": null,
      "outputs": []
    }
  ]
}