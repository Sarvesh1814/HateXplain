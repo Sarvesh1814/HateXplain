{
  "nbformat": 4,
  "nbformat_minor": 0,
  "metadata": {
    "colab": {
      "provenance": [],
      "authorship_tag": "ABX9TyN8sM6cvqOJB3wwAl+KcrFV",
      "include_colab_link": true
    },
    "kernelspec": {
      "name": "python3",
      "display_name": "Python 3"
    },
    "language_info": {
      "name": "python"
    }
  },
  "cells": [
    {
      "cell_type": "markdown",
      "metadata": {
        "id": "view-in-github",
        "colab_type": "text"
      },
      "source": [
        "<a href=\"https://colab.research.google.com/github/Sarvesh1814/HateXplain/blob/Sarvesh/CNN_GRU_V3.ipynb\" target=\"_parent\"><img src=\"https://colab.research.google.com/assets/colab-badge.svg\" alt=\"Open In Colab\"/></a>"
      ]
    },
    {
      "cell_type": "markdown",
      "source": [
        "# Importing Libraries and Embeddings"
      ],
      "metadata": {
        "id": "bgJOOeSw-Sy-"
      }
    },
    {
      "cell_type": "code",
      "source": [
        "from google.colab import drive\n",
        "drive.mount('/content/drive')"
      ],
      "metadata": {
        "colab": {
          "base_uri": "https://localhost:8080/"
        },
        "id": "lLUfaxMXysON",
        "outputId": "6cfd22cb-5b0e-43a6-bafa-b20871c1a0d4"
      },
      "execution_count": null,
      "outputs": [
        {
          "output_type": "stream",
          "name": "stdout",
          "text": [
            "Mounted at /content/drive\n"
          ]
        }
      ]
    },
    {
      "cell_type": "code",
      "source": [
        "from keras.models import Sequential\n",
        "from keras.layers import Embedding, Conv1D, MaxPooling1D, GRU, Dense, Dropout\n",
        "import numpy as np\n",
        "\n",
        "from nltk.tokenize import word_tokenize\n",
        "from wordcloud import WordCloud\n",
        "from gensim.models import Word2Vec\n",
        "from tensorflow.keras.layers import Input, Embedding, LSTM, Dense, Dropout\n",
        "import tensorflow as tf\n"
      ],
      "metadata": {
        "id": "zIZ8Y9UgyTcd"
      },
      "execution_count": null,
      "outputs": []
    },
    {
      "cell_type": "code",
      "source": [
        "import numpy as np\n",
        "import pandas as pd\n",
        "import matplotlib.pyplot as plt\n",
        "import gensim\n",
        "import spacy\n",
        "import nltk\n",
        "from tensorflow.keras.utils import pad_sequences\n",
        "import numpy as np\n",
        "import pandas as pd\n",
        "from keras.preprocessing.text import Tokenizer\n",
        "from keras.layers import Embedding, Conv1D, MaxPooling1D, GRU, Dense, Dropout\n",
        "from keras.models import Sequential\n",
        "from keras.optimizers import RMSprop,Adam\n",
        "from keras.utils import to_categorical\n",
        "from sklearn.preprocessing import LabelEncoder\n",
        "from keras.preprocessing.text import Tokenizer"
      ],
      "metadata": {
        "id": "Q2jm9eXj1Zup"
      },
      "execution_count": null,
      "outputs": []
    },
    {
      "cell_type": "code",
      "source": [
        "# Download the pre-trained GloVe word embeddings\n",
        "!wget http://nlp.stanford.edu/data/glove.6B.zip\n",
        "!unzip glove.6B.zip"
      ],
      "metadata": {
        "colab": {
          "base_uri": "https://localhost:8080/"
        },
        "id": "HE5EkqhbyWFs",
        "outputId": "956f0776-06ce-45d4-ffed-f6017dc8b627"
      },
      "execution_count": null,
      "outputs": [
        {
          "output_type": "stream",
          "name": "stdout",
          "text": [
            "--2023-04-11 10:10:11--  http://nlp.stanford.edu/data/glove.6B.zip\n",
            "Resolving nlp.stanford.edu (nlp.stanford.edu)... 171.64.67.140\n",
            "Connecting to nlp.stanford.edu (nlp.stanford.edu)|171.64.67.140|:80... connected.\n",
            "HTTP request sent, awaiting response... 302 Found\n",
            "Location: https://nlp.stanford.edu/data/glove.6B.zip [following]\n",
            "--2023-04-11 10:10:11--  https://nlp.stanford.edu/data/glove.6B.zip\n",
            "Connecting to nlp.stanford.edu (nlp.stanford.edu)|171.64.67.140|:443... connected.\n",
            "HTTP request sent, awaiting response... 301 Moved Permanently\n",
            "Location: https://downloads.cs.stanford.edu/nlp/data/glove.6B.zip [following]\n",
            "--2023-04-11 10:10:12--  https://downloads.cs.stanford.edu/nlp/data/glove.6B.zip\n",
            "Resolving downloads.cs.stanford.edu (downloads.cs.stanford.edu)... 171.64.64.22\n",
            "Connecting to downloads.cs.stanford.edu (downloads.cs.stanford.edu)|171.64.64.22|:443... connected.\n",
            "HTTP request sent, awaiting response... 200 OK\n",
            "Length: 862182613 (822M) [application/zip]\n",
            "Saving to: ‘glove.6B.zip’\n",
            "\n",
            "glove.6B.zip        100%[===================>] 822.24M  5.03MB/s    in 2m 39s  \n",
            "\n",
            "2023-04-11 10:12:51 (5.16 MB/s) - ‘glove.6B.zip’ saved [862182613/862182613]\n",
            "\n",
            "Archive:  glove.6B.zip\n",
            "  inflating: glove.6B.50d.txt        \n",
            "  inflating: glove.6B.100d.txt       \n",
            "  inflating: glove.6B.200d.txt       \n",
            "  inflating: glove.6B.300d.txt       \n"
          ]
        }
      ]
    },
    {
      "cell_type": "code",
      "source": [
        "df = pd.read_csv(\"/content/drive/MyDrive/Reproducibility/Sample Model/HateXplain2.csv\")"
      ],
      "metadata": {
        "id": "1b1yoLDw153l"
      },
      "execution_count": null,
      "outputs": []
    },
    {
      "cell_type": "code",
      "source": [
        "data = df[['post_tokens',\t'Target_cat',\t'Label_cat',\t'final_rationales']]\n",
        "data['post_tokens'] = data['post_tokens'].apply(lambda x: eval(x))\n",
        "for i in range(len(data)):\n",
        "  \n",
        "  sentence =\"\"\n",
        "  for j in (data['post_tokens'].iloc[i]):\n",
        "    \n",
        "    sentence += j +\" \"\n",
        "    \n",
        "  data['post_tokens'].iloc[i] = sentence"
      ],
      "metadata": {
        "colab": {
          "base_uri": "https://localhost:8080/"
        },
        "id": "QiZs90jR1_uB",
        "outputId": "789730ec-168f-48b8-bd9c-6ff88c640834"
      },
      "execution_count": null,
      "outputs": [
        {
          "output_type": "stream",
          "name": "stderr",
          "text": [
            "<ipython-input-19-5f0ee8932d8a>:2: SettingWithCopyWarning: \n",
            "A value is trying to be set on a copy of a slice from a DataFrame.\n",
            "Try using .loc[row_indexer,col_indexer] = value instead\n",
            "\n",
            "See the caveats in the documentation: https://pandas.pydata.org/pandas-docs/stable/user_guide/indexing.html#returning-a-view-versus-a-copy\n",
            "  data['post_tokens'] = data['post_tokens'].apply(lambda x: eval(x))\n",
            "<ipython-input-19-5f0ee8932d8a>:10: SettingWithCopyWarning: \n",
            "A value is trying to be set on a copy of a slice from a DataFrame\n",
            "\n",
            "See the caveats in the documentation: https://pandas.pydata.org/pandas-docs/stable/user_guide/indexing.html#returning-a-view-versus-a-copy\n",
            "  data['post_tokens'].iloc[i] = sentence\n"
          ]
        }
      ]
    },
    {
      "cell_type": "code",
      "source": [
        "label_map = {'hatespeech': 0, 'normal': 1, 'offensive': 2}\n",
        "labels = data[\"Label_cat\"].apply(lambda x: label_map[x])"
      ],
      "metadata": {
        "id": "gNrV0SsR2CTa"
      },
      "execution_count": null,
      "outputs": []
    },
    {
      "cell_type": "code",
      "source": [
        "max_words = 10000\n",
        "maxlen = 100\n",
        "\n",
        "# Tokenize the text data and convert it to sequences of integers\n",
        "tokenizer = Tokenizer(num_words=max_words)\n",
        "tokenizer.fit_on_texts(df['post_tokens'])\n",
        "sequences = tokenizer.texts_to_sequences(df['post_tokens'])\n",
        "X = pad_sequences(sequences, maxlen=maxlen)\n",
        "\n",
        "# Define the target labels\n",
        "y = pd.get_dummies(df['Label_cat']).values\n"
      ],
      "metadata": {
        "id": "zNIUNUvv1zmc"
      },
      "execution_count": null,
      "outputs": []
    },
    {
      "cell_type": "code",
      "source": [
        "# Load the pre-trained GloVe embeddings\n",
        "embedding_dict = {}\n",
        "with open('glove.6B.100d.txt', encoding='utf-8') as f:\n",
        "    for line in f:\n",
        "        values = line.split()\n",
        "        word = values[0]\n",
        "        vector = np.asarray(values[1:], dtype='float32')\n",
        "        embedding_dict[word] = vector\n",
        "\n",
        "# Initialize the embedding matrix with pre-trained GloVe embeddings\n",
        "word_index = tokenizer.word_index\n",
        "num_words = min(max_words, len(word_index) + 1)\n",
        "embedding_matrix = np.zeros((num_words, 100))\n",
        "for word, i in word_index.items():\n",
        "    if i >= max_words:\n",
        "        continue\n",
        "    embedding_vector = embedding_dict.get(word)\n",
        "    if embedding_vector is not None:\n",
        "        embedding_matrix[i] = embedding_vector\n"
      ],
      "metadata": {
        "id": "ftMNfY-u2JkW"
      },
      "execution_count": null,
      "outputs": []
    },
    {
      "cell_type": "markdown",
      "source": [
        "## Model Arichtecture"
      ],
      "metadata": {
        "id": "1XAU2Nmp9W45"
      }
    },
    {
      "cell_type": "code",
      "source": [
        "# Display the image in the notebook\n",
        "from IPython.display import Image\n",
        "Image(filename='CNN_GRU_V3.png')\n"
      ],
      "metadata": {
        "colab": {
          "base_uri": "https://localhost:8080/",
          "height": 758
        },
        "id": "H2vaQgxU6z3h",
        "outputId": "58201a70-ac18-43f5-c98c-a5069a413327"
      },
      "execution_count": null,
      "outputs": [
        {
          "output_type": "execute_result",
          "data": {
            "image/png": "[encoded data removed]",
            "text/plain": [
              "<IPython.core.display.Image object>"
            ]
          },
          "metadata": {},
          "execution_count": 32
        }
      ]
    },
    {
      "cell_type": "code",
      "source": [
        "# Define the model architecture\n",
        "model1 = Sequential()\n",
        "model1.add(Embedding(num_words, 100, weights=[embedding_matrix], input_length=maxlen, trainable=True))\n",
        "model1.add(Conv1D(32, 7, activation='relu'))\n",
        "model1.add(MaxPooling1D(5))\n",
        "model1.add(Dropout(0.2))\n",
        "model1.add(GRU(64, dropout=0.2, recurrent_dropout=0.3))\n",
        "model1.add(Dense(128, activation='relu'))\n",
        "model1.add(Dense(3, activation='softmax'))\n",
        "\n",
        "# Compile the model1\n",
        "model1.compile(optimizer=RMSprop(lr=1e-2), loss='categorical_crossentropy', metrics=['acc'])\n",
        "\n",
        "# Train the model1\n",
        "history=model1.fit(X, y, epochs=15, batch_size=32, validation_split=0.2)"
      ],
      "metadata": {
        "colab": {
          "base_uri": "https://localhost:8080/"
        },
        "id": "P9Dh14KZ5UE4",
        "outputId": "3aa63039-a608-455d-b19b-685cc518f68c"
      },
      "execution_count": null,
      "outputs": [
        {
          "output_type": "stream",
          "name": "stdout",
          "text": [
            "Epoch 1/15\n"
          ]
        },
        {
          "output_type": "stream",
          "name": "stderr",
          "text": [
            "/usr/local/lib/python3.9/dist-packages/keras/optimizers/legacy/rmsprop.py:143: UserWarning: The `lr` argument is deprecated, use `learning_rate` instead.\n",
            "  super().__init__(name, **kwargs)\n"
          ]
        },
        {
          "output_type": "stream",
          "name": "stdout",
          "text": [
            "504/504 [==============================] - 35s 62ms/step - loss: 0.9673 - acc: 0.5321 - val_loss: 1.0710 - val_acc: 0.3464\n",
            "Epoch 2/15\n",
            "504/504 [==============================] - 32s 64ms/step - loss: 0.8891 - acc: 0.5797 - val_loss: 1.0710 - val_acc: 0.4211\n",
            "Epoch 3/15\n",
            "504/504 [==============================] - 32s 64ms/step - loss: 0.8514 - acc: 0.6081 - val_loss: 1.1298 - val_acc: 0.4357\n",
            "Epoch 4/15\n",
            "504/504 [==============================] - 31s 61ms/step - loss: 0.8289 - acc: 0.6238 - val_loss: 1.1010 - val_acc: 0.4407\n",
            "Epoch 5/15\n",
            "504/504 [==============================] - 30s 60ms/step - loss: 0.8099 - acc: 0.6391 - val_loss: 1.1622 - val_acc: 0.4261\n",
            "Epoch 6/15\n",
            "504/504 [==============================] - 30s 60ms/step - loss: 0.7900 - acc: 0.6496 - val_loss: 1.0879 - val_acc: 0.4506\n",
            "Epoch 7/15\n",
            "504/504 [==============================] - 31s 61ms/step - loss: 0.7871 - acc: 0.6565 - val_loss: 1.2047 - val_acc: 0.4447\n",
            "Epoch 8/15\n",
            "504/504 [==============================] - 33s 65ms/step - loss: 0.7843 - acc: 0.6539 - val_loss: 1.2200 - val_acc: 0.4350\n",
            "Epoch 9/15\n",
            "504/504 [==============================] - 35s 69ms/step - loss: 0.7664 - acc: 0.6627 - val_loss: 1.1810 - val_acc: 0.4792\n",
            "Epoch 10/15\n",
            "504/504 [==============================] - 30s 60ms/step - loss: 0.7592 - acc: 0.6714 - val_loss: 1.3028 - val_acc: 0.4387\n",
            "Epoch 11/15\n",
            "504/504 [==============================] - 36s 71ms/step - loss: 0.7672 - acc: 0.6724 - val_loss: 1.2022 - val_acc: 0.4402\n",
            "Epoch 12/15\n",
            "504/504 [==============================] - 30s 60ms/step - loss: 0.7561 - acc: 0.6711 - val_loss: 1.2784 - val_acc: 0.4429\n",
            "Epoch 13/15\n",
            "504/504 [==============================] - 30s 60ms/step - loss: 0.7540 - acc: 0.6801 - val_loss: 1.2976 - val_acc: 0.4427\n",
            "Epoch 14/15\n",
            "504/504 [==============================] - 31s 61ms/step - loss: 0.7440 - acc: 0.6822 - val_loss: 1.2647 - val_acc: 0.4082\n",
            "Epoch 15/15\n",
            "504/504 [==============================] - 30s 59ms/step - loss: 0.7480 - acc: 0.6799 - val_loss: 1.2645 - val_acc: 0.4744\n"
          ]
        }
      ]
    },
    {
      "cell_type": "code",
      "source": [],
      "metadata": {
        "id": "4768ZX5_-FXT"
      },
      "execution_count": null,
      "outputs": []
    }
  ]
}